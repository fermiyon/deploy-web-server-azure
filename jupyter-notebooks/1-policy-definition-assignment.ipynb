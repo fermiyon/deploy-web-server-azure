{
 "cells": [
  {
   "cell_type": "code",
   "execution_count": null,
   "metadata": {},
   "outputs": [],
   "source": [
    "!az login"
   ]
  },
  {
   "cell_type": "code",
   "execution_count": null,
   "metadata": {},
   "outputs": [],
   "source": [
    "# Show signed-in user\n",
    "!az ad signed-in-user show --query userPrincipalName -o tsv"
   ]
  },
  {
   "cell_type": "code",
   "execution_count": null,
   "metadata": {},
   "outputs": [
    {
     "name": "stdout",
     "output_type": "stream",
     "text": [
      "Name         Location    Status\n",
      "-----------  ----------  ---------\n",
      "Azuredevops  westeurope  Succeeded\n"
     ]
    }
   ],
   "source": [
    "# List resource group\n",
    "!az group list --output table"
   ]
  },
  {
   "cell_type": "code",
   "execution_count": 3,
   "metadata": {},
   "outputs": [
    {
     "name": "stdout",
     "output_type": "stream",
     "text": [
      "Name                                    PolicyType    Mode     DisplayName                             Description\n",
      "--------------------------------------  ------------  -------  --------------------------------------  --------------------------------------\n",
      "clouddevops674-256388-PolicyDefinition  Custom        Indexed  clouddevops674-256388-PolicyDefinition  clouddevops674-256388-PolicyDefinition\n"
     ]
    }
   ],
   "source": [
    "# List policy definitions (custom ones) to control\n",
    "# !az policy definition list --output table\n",
    "!az policy definition list --query \"[?policyType=='Custom']\" --output table"
   ]
  },
  {
   "cell_type": "code",
   "execution_count": null,
   "metadata": {},
   "outputs": [],
   "source": [
    "# Create a policy definition for tagging\n",
    "!az policy definition create --name \"tagging-policy\" --display-name \"Tagging Policy\" --description \"Ensure all indexed resources have tags\" --rules deny-policy.json"
   ]
  },
  {
   "cell_type": "code",
   "execution_count": 6,
   "metadata": {},
   "outputs": [
    {
     "name": "stdout",
     "output_type": "stream",
     "text": [
      "Name                                    PolicyType    Mode     DisplayName                             Description\n",
      "--------------------------------------  ------------  -------  --------------------------------------  --------------------------------------\n",
      "tagging-policy                          Custom        Indexed  Tagging Policy                          Ensure all indexed resources have tags\n",
      "clouddevops674-256388-PolicyDefinition  Custom        Indexed  clouddevops674-256388-PolicyDefinition  clouddevops674-256388-PolicyDefinition\n"
     ]
    }
   ],
   "source": [
    "# List custom policy definitions\n",
    "!az policy definition list --query \"[?policyType=='Custom']\" --output table"
   ]
  },
  {
   "cell_type": "code",
   "execution_count": null,
   "metadata": {},
   "outputs": [],
   "source": [
    "# Create assignment\n",
    "!az policy assignment create --name \"tagging-policy-assignment\" --display-name \"Tagging Policy Assignment\" --policy \"tagging-policy\""
   ]
  },
  {
   "cell_type": "code",
   "execution_count": 8,
   "metadata": {},
   "outputs": [
    {
     "name": "stdout",
     "output_type": "stream",
     "text": [
      "DisplayName                             EnforcementMode    Name                                    PolicyDefinitionId                                                                                                                              Scope                                                Description\n",
      "--------------------------------------  -----------------  --------------------------------------  ----------------------------------------------------------------------------------------------------------------------------------------------  ---------------------------------------------------  --------------------------------------\n",
      "Tagging Policy Assignment               Default            tagging-policy-assignment               /subscriptions/e2c7cd99-c3c5-4a90-9109-02e7d50f8311/providers/Microsoft.Authorization/policyDefinitions/tagging-policy                          /subscriptions/e2c7cd99-c3c5-4a90-9109-02e7d50f8311\n",
      "clouddevops674-256388-PolicyDefinition  Default            clouddevops674-256388-PolicyDefinition  /subscriptions/e2c7cd99-c3c5-4a90-9109-02e7d50f8311/providers/Microsoft.Authorization/policyDefinitions/clouddevops674-256388-PolicyDefinition  /subscriptions/e2c7cd99-c3c5-4a90-9109-02e7d50f8311  clouddevops674-256388-PolicyDefinition\n"
     ]
    }
   ],
   "source": [
    "# List policy assignments in table\n",
    "# !az policy assignment list\n",
    "!az policy assignment list --output table\n"
   ]
  }
 ],
 "metadata": {
  "kernelspec": {
   "display_name": "Python 3",
   "language": "python",
   "name": "python3"
  },
  "language_info": {
   "codemirror_mode": {
    "name": "ipython",
    "version": 3
   },
   "file_extension": ".py",
   "mimetype": "text/x-python",
   "name": "python",
   "nbconvert_exporter": "python",
   "pygments_lexer": "ipython3",
   "version": "3.12.2"
  }
 },
 "nbformat": 4,
 "nbformat_minor": 2
}
